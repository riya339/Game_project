{
 "cells": [
  {
   "cell_type": "code",
   "execution_count": 1,
   "metadata": {},
   "outputs": [],
   "source": [
    "# create a deck of 52 cards"
   ]
  },
  {
   "cell_type": "code",
   "execution_count": 2,
   "metadata": {},
   "outputs": [],
   "source": [
    "import random\n",
    "suits=('Heart','Club','Spade','Diamond')\n",
    "ranks=('Two','Three','Four','Five','Six','Seven','Eight','Nine','Ten','King','Queen','Jack','Ace')\n",
    "values={'Two':2,'Three':3,'Four':4,'Five':5,'Six':6,'Seven':7,'Eight':8,'Nine':9,'Ten':10,'King':13,\n",
    "        'Queen':12,'Jack':11,'Ace':14}"
   ]
  },
  {
   "cell_type": "code",
   "execution_count": 3,
   "metadata": {},
   "outputs": [],
   "source": [
    "class Card:\n",
    "    \n",
    "    def __init__(self,suit,rank):   #when someone create a card\n",
    "        self.suit = suit\n",
    "        self.rank = rank\n",
    "        self.value=values[rank]# inside \n",
    "        \n",
    "    def __str__(self):\n",
    "        return self.rank + \" of \" + self.suit"
   ]
  },
  {
   "cell_type": "code",
   "execution_count": 4,
   "metadata": {},
   "outputs": [],
   "source": [
    "two_heart = Card (\"Heart\",\"Two\")"
   ]
  },
  {
   "cell_type": "code",
   "execution_count": 5,
   "metadata": {},
   "outputs": [
    {
     "data": {
      "text/plain": [
       "<__main__.Card at 0x1e551314ec8>"
      ]
     },
     "execution_count": 5,
     "metadata": {},
     "output_type": "execute_result"
    }
   ],
   "source": [
    "two_heart"
   ]
  },
  {
   "cell_type": "code",
   "execution_count": 6,
   "metadata": {},
   "outputs": [
    {
     "name": "stdout",
     "output_type": "stream",
     "text": [
      "Two of Heart\n"
     ]
    }
   ],
   "source": [
    "print(two_heart) #print statement prints the __str__ method"
   ]
  },
  {
   "cell_type": "code",
   "execution_count": 7,
   "metadata": {},
   "outputs": [
    {
     "data": {
      "text/plain": [
       "2"
      ]
     },
     "execution_count": 7,
     "metadata": {},
     "output_type": "execute_result"
    }
   ],
   "source": [
    "values[two_heart.rank]"
   ]
  },
  {
   "cell_type": "code",
   "execution_count": 8,
   "metadata": {},
   "outputs": [],
   "source": [
    "three_club=Card(\"Club\",\"Three\")"
   ]
  },
  {
   "cell_type": "code",
   "execution_count": 9,
   "metadata": {},
   "outputs": [
    {
     "data": {
      "text/plain": [
       "<__main__.Card at 0x1e55122e448>"
      ]
     },
     "execution_count": 9,
     "metadata": {},
     "output_type": "execute_result"
    }
   ],
   "source": [
    "three_club"
   ]
  },
  {
   "cell_type": "code",
   "execution_count": 10,
   "metadata": {},
   "outputs": [
    {
     "name": "stdout",
     "output_type": "stream",
     "text": [
      "Three of Club\n"
     ]
    }
   ],
   "source": [
    "print(three_club)"
   ]
  },
  {
   "cell_type": "code",
   "execution_count": 11,
   "metadata": {},
   "outputs": [
    {
     "data": {
      "text/plain": [
       "True"
      ]
     },
     "execution_count": 11,
     "metadata": {},
     "output_type": "execute_result"
    }
   ],
   "source": [
    "two_heart.value < three_club.value"
   ]
  },
  {
   "cell_type": "code",
   "execution_count": 30,
   "metadata": {},
   "outputs": [],
   "source": [
    "class Deck:\n",
    "    \n",
    "    def __init__(self):\n",
    "        #create a deck\n",
    "        #attribute named all_cards\n",
    "        self.all_card = [] # empty list\n",
    "        \n",
    "        for suit in suits: #suits is the tuple\n",
    "            for rank in ranks: \n",
    "                #create a card object\n",
    "                created_card= Card(suit,rank)\n",
    "                #creating a card and storing/appending it into all_cards list \n",
    "                self.all_card.append(created_card)\n",
    "    def shuffle (self): #shuffling the cards but does not return/ print the cards after shuffling\n",
    "        \n",
    "         random.shuffle(self.all_card)\n",
    "    def del_one(self):\n",
    "         return self.all_card.pop() # remove acard for later use in other classes"
   ]
  },
  {
   "cell_type": "code",
   "execution_count": 31,
   "metadata": {},
   "outputs": [],
   "source": [
    "new_deck =Deck()"
   ]
  },
  {
   "cell_type": "code",
   "execution_count": 32,
   "metadata": {},
   "outputs": [],
   "source": [
    "first_card  = new_deck.all_card[0]\n",
    "last_card=new_deck.all_card[-1]"
   ]
  },
  {
   "cell_type": "code",
   "execution_count": 33,
   "metadata": {},
   "outputs": [
    {
     "name": "stdout",
     "output_type": "stream",
     "text": [
      "Two of Heart\n",
      "Ace of Diamond\n"
     ]
    }
   ],
   "source": [
    "print(first_card)\n",
    "print(last_card)"
   ]
  },
  {
   "cell_type": "code",
   "execution_count": 34,
   "metadata": {},
   "outputs": [
    {
     "name": "stdout",
     "output_type": "stream",
     "text": [
      "Two of Heart\n",
      "Three of Heart\n",
      "Four of Heart\n",
      "Five of Heart\n",
      "Six of Heart\n",
      "Seven of Heart\n",
      "Eight of Heart\n",
      "Nine of Heart\n",
      "Ten of Heart\n",
      "King of Heart\n",
      "Queen of Heart\n",
      "Jack of Heart\n",
      "Ace of Heart\n",
      "Two of Club\n",
      "Three of Club\n",
      "Four of Club\n",
      "Five of Club\n",
      "Six of Club\n",
      "Seven of Club\n",
      "Eight of Club\n",
      "Nine of Club\n",
      "Ten of Club\n",
      "King of Club\n",
      "Queen of Club\n",
      "Jack of Club\n",
      "Ace of Club\n",
      "Two of Spade\n",
      "Three of Spade\n",
      "Four of Spade\n",
      "Five of Spade\n",
      "Six of Spade\n",
      "Seven of Spade\n",
      "Eight of Spade\n",
      "Nine of Spade\n",
      "Ten of Spade\n",
      "King of Spade\n",
      "Queen of Spade\n",
      "Jack of Spade\n",
      "Ace of Spade\n",
      "Two of Diamond\n",
      "Three of Diamond\n",
      "Four of Diamond\n",
      "Five of Diamond\n",
      "Six of Diamond\n",
      "Seven of Diamond\n",
      "Eight of Diamond\n",
      "Nine of Diamond\n",
      "Ten of Diamond\n",
      "King of Diamond\n",
      "Queen of Diamond\n",
      "Jack of Diamond\n",
      "Ace of Diamond\n"
     ]
    }
   ],
   "source": [
    "for card_object in new_deck.all_card:\n",
    "    print(card_object)"
   ]
  },
  {
   "cell_type": "code",
   "execution_count": 35,
   "metadata": {},
   "outputs": [
    {
     "name": "stdout",
     "output_type": "stream",
     "text": [
      "Ace of Diamond\n"
     ]
    }
   ],
   "source": [
    "print(last_card)"
   ]
  },
  {
   "cell_type": "code",
   "execution_count": 36,
   "metadata": {},
   "outputs": [],
   "source": [
    "new_deck.shuffle()#nothing is retruned"
   ]
  },
  {
   "cell_type": "code",
   "execution_count": 40,
   "metadata": {},
   "outputs": [
    {
     "name": "stdout",
     "output_type": "stream",
     "text": [
      "Queen of Club\n"
     ]
    }
   ],
   "source": [
    "print(new_deck.all_card[-1])"
   ]
  },
  {
   "cell_type": "code",
   "execution_count": 41,
   "metadata": {},
   "outputs": [],
   "source": [
    "mycard=new_deck.del_one()"
   ]
  },
  {
   "cell_type": "code",
   "execution_count": 42,
   "metadata": {},
   "outputs": [
    {
     "name": "stdout",
     "output_type": "stream",
     "text": [
      "Queen of Club\n"
     ]
    }
   ],
   "source": [
    "print(mycard)"
   ]
  },
  {
   "cell_type": "code",
   "execution_count": 48,
   "metadata": {},
   "outputs": [],
   "source": [
    "#player class\n",
    "#self.all_card\n",
    "#extend takes a list and merge/add with another\n",
    "class player:\n",
    "    \n",
    "    def __init__(self,name):\n",
    "        \n",
    "        self.name=name\n",
    "        self.all_card=[]\n",
    "     \n",
    "    def remove_one(self):\n",
    "        return self.all_card.pop(0)\n",
    "    \n",
    "    def add_card(self,new_card):\n",
    "        if type(new_card)==type([]):\n",
    "            #list of multiple card to be added\n",
    "            self.all_card.extend(new_card)\n",
    "        else:\n",
    "            #for a single card object\n",
    "            self.all_card.append(new_card)\n",
    "    \n",
    "    def __str__(self):\n",
    "        return f'Player {self.name} has {len(self.all_card)} cards'\n",
    "    "
   ]
  },
  {
   "cell_type": "code",
   "execution_count": 49,
   "metadata": {},
   "outputs": [],
   "source": [
    "new_player=player(\"Jose\")"
   ]
  },
  {
   "cell_type": "code",
   "execution_count": 50,
   "metadata": {},
   "outputs": [
    {
     "name": "stdout",
     "output_type": "stream",
     "text": [
      "Player Jose has 0 cards\n"
     ]
    }
   ],
   "source": [
    "print(new_player)"
   ]
  },
  {
   "cell_type": "code",
   "execution_count": 52,
   "metadata": {},
   "outputs": [],
   "source": [
    "new_player.add_card(mycard)"
   ]
  },
  {
   "cell_type": "code",
   "execution_count": 53,
   "metadata": {},
   "outputs": [
    {
     "name": "stdout",
     "output_type": "stream",
     "text": [
      "Player Jose has 1 cards\n"
     ]
    }
   ],
   "source": [
    "print(new_player)"
   ]
  },
  {
   "cell_type": "code",
   "execution_count": 54,
   "metadata": {},
   "outputs": [
    {
     "name": "stdout",
     "output_type": "stream",
     "text": [
      "Queen of Club\n"
     ]
    }
   ],
   "source": [
    "print(new_player.all_card[0])"
   ]
  },
  {
   "cell_type": "code",
   "execution_count": null,
   "metadata": {},
   "outputs": [],
   "source": [
    "#logic\n",
    "player_one=player(\"one\")\n",
    "player_two=player(\"two\")\n",
    "\n"
   ]
  }
 ],
 "metadata": {
  "kernelspec": {
   "display_name": "Python 3",
   "language": "python",
   "name": "python3"
  },
  "language_info": {
   "codemirror_mode": {
    "name": "ipython",
    "version": 3
   },
   "file_extension": ".py",
   "mimetype": "text/x-python",
   "name": "python",
   "nbconvert_exporter": "python",
   "pygments_lexer": "ipython3",
   "version": "3.7.6"
  }
 },
 "nbformat": 4,
 "nbformat_minor": 4
}
