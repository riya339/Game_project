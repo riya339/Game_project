{
 "cells": [
  {
   "cell_type": "code",
   "execution_count": 17,
   "metadata": {},
   "outputs": [],
   "source": [
    "from IPython.display import clear_output\n",
    "\n",
    "def display(board):\n",
    "    clear_output()\n",
    "    print('   '+board[7]+' |'+' '+board[8]+' |'+' '+board[9])\n",
    "    print(' ____|'+'___|'+'____')\n",
    "    print('   '+board[4]+' |'+' '+board[5]+' |'+' '+board[6])\n",
    "    print(' ____|'+'___|'+'____')\n",
    "    print('   '+board[1]+' |'+' '+board[2]+' |'+' '+board[3])\n",
    "    print('     |'+'   |')"
   ]
  },
  {
   "cell_type": "code",
   "execution_count": 18,
   "metadata": {},
   "outputs": [
    {
     "name": "stdout",
     "output_type": "stream",
     "text": [
      "   X | O | X\n",
      " ____|___|____\n",
      "   O | X | O\n",
      " ____|___|____\n",
      "   X | O | X\n",
      "     |   |\n"
     ]
    }
   ],
   "source": [
    "test_board = ['#','X','O','X','O','X','O','X','O','X']\n",
    "display(test_board)"
   ]
  },
  {
   "cell_type": "code",
   "execution_count": 19,
   "metadata": {},
   "outputs": [],
   "source": [
    "def user_choice(): # user selects the symbol\n",
    "    correct=['X','O']\n",
    "    marker=''\n",
    "    while not (marker=='X' or marker=='O'):\n",
    "        marker=input(\"player1, do you what to play with X or O: \").upper()\n",
    "        if marker not in correct:\n",
    "            print('sorry wrong choice')\n",
    "        elif marker=='X':\n",
    "            return ('X','O')\n",
    "        else:\n",
    "            return('O','X')"
   ]
  },
  {
   "cell_type": "code",
   "execution_count": 20,
   "metadata": {},
   "outputs": [
    {
     "name": "stdout",
     "output_type": "stream",
     "text": [
      "player1, do you what to play with X or O: x\n"
     ]
    }
   ],
   "source": [
    "player_1,player_2=user_choice()"
   ]
  },
  {
   "cell_type": "code",
   "execution_count": 21,
   "metadata": {},
   "outputs": [],
   "source": [
    "def place_marker(board,marker,position): #position the X or O in the tic tac toe table\n",
    "    \n",
    "    board[position]=marker"
   ]
  },
  {
   "cell_type": "code",
   "execution_count": 22,
   "metadata": {},
   "outputs": [
    {
     "data": {
      "text/plain": [
       "['#', 'X', 'O', 'X', 'O', 'X', 'O', 'X', 'O', 'X']"
      ]
     },
     "execution_count": 22,
     "metadata": {},
     "output_type": "execute_result"
    }
   ],
   "source": [
    "test_board"
   ]
  },
  {
   "cell_type": "code",
   "execution_count": 23,
   "metadata": {},
   "outputs": [
    {
     "name": "stdout",
     "output_type": "stream",
     "text": [
      "   X | $ | X\n",
      " ____|___|____\n",
      "   O | X | O\n",
      " ____|___|____\n",
      "   X | O | X\n",
      "     |   |\n"
     ]
    }
   ],
   "source": [
    "place_marker(test_board,'$',8)\n",
    "display(test_board)"
   ]
  },
  {
   "cell_type": "code",
   "execution_count": 24,
   "metadata": {},
   "outputs": [],
   "source": [
    "def winner_of_the_game (board,mark):\n",
    "    if(board[1]==board[2]==board[3]==mark or #rows\n",
    "       board[4]==board[5]==board[6]==mark or \n",
    "       board[7]==board[8]==board[9]==mark or\n",
    "       board[7]==board[5]==board[3]==mark or #diagonals\n",
    "       board[9]==board[5]==board[1]==mark or\n",
    "       board[7]==board[4]==board[1]==mark or #columns\n",
    "       board[8]==board[5]==board[2]==mark or\n",
    "       board[9]==board[6]==board[3]==mark\n",
    "      ):\n",
    "        return True\n",
    "    "
   ]
  },
  {
   "cell_type": "code",
   "execution_count": 25,
   "metadata": {},
   "outputs": [
    {
     "name": "stdout",
     "output_type": "stream",
     "text": [
      "   X | $ | X\n",
      " ____|___|____\n",
      "   O | X | O\n",
      " ____|___|____\n",
      "   X | O | X\n",
      "     |   |\n"
     ]
    },
    {
     "data": {
      "text/plain": [
       "True"
      ]
     },
     "execution_count": 25,
     "metadata": {},
     "output_type": "execute_result"
    }
   ],
   "source": [
    "display(test_board)\n",
    "winner_of_the_game(test_board,'X')"
   ]
  },
  {
   "cell_type": "code",
   "execution_count": 26,
   "metadata": {},
   "outputs": [],
   "source": [
    "import random \n",
    "def who_will_play_first():\n",
    "    \n",
    "    flip = random.randint(0,1)\n",
    "    \n",
    "    if flip == 0:\n",
    "        return 'Player 1'\n",
    "    else:\n",
    "        return 'Player 2'"
   ]
  },
  {
   "cell_type": "code",
   "execution_count": 27,
   "metadata": {},
   "outputs": [],
   "source": [
    "def free_space(board,position):\n",
    "     \n",
    "    return(board[position]==' ')"
   ]
  },
  {
   "cell_type": "code",
   "execution_count": 28,
   "metadata": {},
   "outputs": [],
   "source": [
    "def full_board(board):\n",
    "    \n",
    "    for i in range(1,10):\n",
    "        if free_space(board,i):\n",
    "            return False\n",
    "    return True\n",
    "    "
   ]
  },
  {
   "cell_type": "code",
   "execution_count": 29,
   "metadata": {},
   "outputs": [
    {
     "name": "stdout",
     "output_type": "stream",
     "text": [
      "   X | $ | X\n",
      " ____|___|____\n",
      "   O | X | O\n",
      " ____|___|____\n",
      "   X | O | X\n",
      "     |   |\n"
     ]
    }
   ],
   "source": [
    "full_board(test_board)\n",
    "display(test_board)"
   ]
  },
  {
   "cell_type": "code",
   "execution_count": 34,
   "metadata": {},
   "outputs": [],
   "source": [
    "def positioning(board):\n",
    "    position=0\n",
    "    while position not in [1,2,3,4,5,6,7,8,9] or not free_space(board,position):\n",
    "        position=int(input(\"choose a position (1-9):\"))\n",
    "\n",
    "    return position\n",
    "        "
   ]
  },
  {
   "cell_type": "code",
   "execution_count": 35,
   "metadata": {},
   "outputs": [],
   "source": [
    "def replay():\n",
    "    re=input(\"play again??enter yes or no :\")\n",
    "    return re=='yes'\n",
    "                                             "
   ]
  },
  {
   "cell_type": "code",
   "execution_count": null,
   "metadata": {},
   "outputs": [],
   "source": []
  },
  {
   "cell_type": "code",
   "execution_count": 36,
   "metadata": {},
   "outputs": [
    {
     "name": "stdout",
     "output_type": "stream",
     "text": [
      "   X | O | X\n",
      " ____|___|____\n",
      "     | O |  \n",
      " ____|___|____\n",
      "   O | O | X\n",
      "     |   |\n",
      "player 1 is the winner\n",
      "play again??enter yes or no :no\n"
     ]
    }
   ],
   "source": [
    "# Main Logic\n",
    "print(\"Welcome to Tic Tac Toe\")\n",
    "play_game=''\n",
    "game_on=True\n",
    "while True:\n",
    "    \n",
    "    #board defination\n",
    "    the_board=[' ']*10\n",
    "    player_1,player_2= user_choice()\n",
    "    \n",
    "    #who goes first\n",
    "    turn= who_will_play_first()\n",
    "    print(turn + ' will go first')\n",
    "    \n",
    "    play_game=input(\"ready to play?? y or n :\")\n",
    "    if play_game=='y':\n",
    "        game_on=True\n",
    "    else:\n",
    "        game_on=False\n",
    "        \n",
    "    while game_on:    \n",
    "        if turn=='Player 1':\n",
    "            display(the_board)\n",
    "            print('player 1')\n",
    "            position=positioning(the_board)\n",
    "            place_marker(the_board,player_1,position)\n",
    "            \n",
    "            if winner_of_the_game(the_board,player_1):\n",
    "                display(the_board)\n",
    "                print('player 1 is the winner')\n",
    "                game_on=False\n",
    "            \n",
    "            \n",
    "            else:\n",
    "                    if full_board(the_board):\n",
    "                        display(the_board)\n",
    "                        print(\"DRAW GAME\")\n",
    "                        game_on=False\n",
    "                    else:\n",
    "                         turn ='Player 2'\n",
    "           \n",
    "        else:\n",
    "                display(the_board)\n",
    "                print('player 2')\n",
    "                position=positioning(the_board)\n",
    "                place_marker(the_board,player_2,position)\n",
    "                \n",
    "                \n",
    "                if winner_of_the_game(the_board,player_2):\n",
    "                        display(the_board)\n",
    "                        print('player 2 is the winner')\n",
    "                        game_on=False\n",
    "                else:\n",
    "                    if full_board(the_board):\n",
    "                        display(the_board)\n",
    "                        print(\"DRAW GAME\")\n",
    "                        game_on=False\n",
    "                    else:\n",
    "                         turn ='Player 1'\n",
    "                                \n",
    "    \n",
    "    if not replay():\n",
    "        break\n",
    "                        \n",
    "\n",
    "\n",
    "\n",
    "\n"
   ]
  },
  {
   "cell_type": "code",
   "execution_count": null,
   "metadata": {},
   "outputs": [],
   "source": []
  },
  {
   "cell_type": "code",
   "execution_count": null,
   "metadata": {},
   "outputs": [],
   "source": []
  }
 ],
 "metadata": {
  "kernelspec": {
   "display_name": "Python 3",
   "language": "python",
   "name": "python3"
  },
  "language_info": {
   "codemirror_mode": {
    "name": "ipython",
    "version": 3
   },
   "file_extension": ".py",
   "mimetype": "text/x-python",
   "name": "python",
   "nbconvert_exporter": "python",
   "pygments_lexer": "ipython3",
   "version": "3.7.6"
  }
 },
 "nbformat": 4,
 "nbformat_minor": 4
}
